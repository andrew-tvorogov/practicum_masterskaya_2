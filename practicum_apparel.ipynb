{
 "cells": [
  {
   "cell_type": "markdown",
   "id": "d684b6a4-41fd-46d0-adbe-f7dd5ce2b87d",
   "metadata": {},
   "source": [
    "Ссылка на репозиторий проекта:\n",
    "https://github.com/andrew-tvorogov/practicum_masterskaya_2"
   ]
  },
  {
   "cell_type": "markdown",
   "id": "9db9ef8b-2b68-42dc-8a6d-fce7daec64ac",
   "metadata": {},
   "source": [
    "# Маркетинг. Предсказание вероятности покупки пользователем в интернет-магазине в течение 90 дней."
   ]
  },
  {
   "cell_type": "markdown",
   "id": "64cffef6-f869-495b-8628-1074f735d068",
   "metadata": {},
   "source": [
    "<b>Описание:</b>\r\n",
    "- Интернет-магазин собирает историю покупателей, проводит рассылки предложений и планирует будущие продажи. Для оптимизации процессов надо выделить пользователей, которые готовы совершить покупку в ближайшее время.\r\n",
    "\r\n",
    "<b>Заказчик исследования:</b>\r\n",
    "- yandex practicum\r\n",
    "\r\n",
    "<b>Источник данных:</b>\r\n",
    "- yandex practicum\r\n",
    "\r\n",
    "<b>Содержание данных:</b>\r\n",
    "- история покупок;\r\n",
    "- история рекламных рассылок.\r\n",
    "\r\n",
    "<b>Цель:</b>\r\n",
    "- Предсказать вероятность покупки в течение 90 дней\r\n",
    "\r\n",
    "<b>Задачи:</b>\r\n",
    "- Изучить данные\r\n",
    "- Разработать полезные признаки\r\n",
    "- Создать модель для классификации пользователей\r\n",
    "- Улучшить модель и максимизировать метрику roc_auc\r\n",
    "- Выполнить тестирование\r\n",
    "\r\n",
    "<b>Данные доступны в трёх файлах:</b>\r\n",
    "\r\n",
    "- ``apparel-purchases.csv`` - история покупок\r\n",
    "    - ``client_id`` - идентификатор пользователя\r\n",
    "    - ``quantity`` - количество товаров в заказе\r\n",
    "    - ``price`` - цена товара\r\n",
    "    - ``category_ids`` - вложенные категории, к которым отнсится товар\r\n",
    "    - ``date`` - дата покупки\r\n",
    "    - ``message_id`` - идентификатор сообщения из рассылки\r\n",
    "\r\n",
    "- ``apparel-messages.csv`` - история рекламных рассылок\r\n",
    "    - ``bulk_campaign_id`` - идентификатор рекламной кампании\r\n",
    "    - ``client_id`` - идентификатор пользователя\r\n",
    "    - ``message_id`` - идентификатор сообщений\r\n",
    "    - ``event`` - тип действия\r\n",
    "    - ``channel`` - канал рассылки\r\n",
    "    - ``date`` - дата рассылки\r\n",
    "    - ``created_at`` - точное время создания сообщения\r\n",
    "\r\n",
    "- ``apparel-target_binary`` - целевой бинарный признак, совершит или не совершит клиент покупку в течение следующих 90 дней\r\n",
    "    - ``client_id`` - идентификатор пользователя\r\n",
    "    - ``target`` - целевой признак"
   ]
  },
  {
   "cell_type": "code",
   "execution_count": 1,
   "id": "13ad1044-a958-4244-b82d-0c2d4c113687",
   "metadata": {},
   "outputs": [],
   "source": [
    "# установка пакетов\n",
    "\n",
    "# correlation analyzer library\n",
    "!pip install phik --quiet "
   ]
  },
  {
   "cell_type": "code",
   "execution_count": 2,
   "id": "9d25a092-d67e-4401-948e-4842a5b98655",
   "metadata": {},
   "outputs": [],
   "source": [
    "# Загрузка библиотек\n",
    "import pandas as pd\n",
    "import matplotlib.pyplot as plt # для диаграмм\n",
    "import math # для диаграмм\n",
    "import numpy as np # для равномерного распределения значений на диаграмме\n",
    "import seaborn as sns\n",
    "import phik\n",
    "\n",
    "from sklearn.preprocessing import (\n",
    "    LabelEncoder,\n",
    "    StandardScaler,\n",
    "    MinMaxScaler,\n",
    "    RobustScaler, \n",
    "    OneHotEncoder, \n",
    "    OrdinalEncoder)\n",
    "\n",
    "from sklearn.model_selection import train_test_split, GridSearchCV, RandomizedSearchCV\n",
    "\n",
    "from sklearn.impute import SimpleImputer\n",
    "from sklearn.linear_model import LogisticRegression\n",
    "from sklearn.neighbors import KNeighborsClassifier\n",
    "from sklearn.tree import DecisionTreeClassifier\n",
    "from sklearn.dummy import DummyClassifier\n",
    "\n",
    "from sklearn.pipeline import Pipeline\n",
    "from sklearn.compose import ColumnTransformer\n",
    "from sklearn.metrics import confusion_matrix, f1_score\n",
    "\n",
    "from sklearn.inspection import permutation_importance\n",
    "from sklearn.feature_selection import SelectKBest, f_classif\n",
    "\n",
    "from warnings import simplefilter"
   ]
  },
  {
   "cell_type": "code",
   "execution_count": 3,
   "id": "8e1d6a28-d136-4195-be2e-708a8d897492",
   "metadata": {},
   "outputs": [],
   "source": [
    "# Функции\n",
    "\n",
    "def dataset_info(df):\n",
    "    '''\n",
    "    Покажет сводную информацию по датасету\n",
    "    '''\n",
    "    cat_columns = df.select_dtypes('object').columns # категориальные\n",
    "    num_columns = df.select_dtypes('float').columns # количественные\n",
    "    datetime_columns = df.select_dtypes('datetime64[ns]').columns # датавремя\n",
    "    print(f'''\\n''')\n",
    "    df.info()\n",
    "    print(f'''\\n''')\n",
    "    display(df.describe())\n",
    "    if (len(list(datetime_columns)) > 0):\n",
    "        display(startups_data[datetime_columns].agg(['min','max']))\n",
    "        print(f'''\\n''')\n",
    "    print(f'''\\n''')\n",
    "    display(df.head(3))\n",
    "    print(f'''\\n\\nЯвных дублей: {df.duplicated().sum()}\\n\\n''')\n",
    "    print(f'''Пропущенных значений:\\n{df.isna().sum()}\\n\\n''')\n",
    "\n",
    "def dataset_tm_info(df):\n",
    "    '''\n",
    "    Покажет информацию по datetime колонкам датасета\n",
    "    '''\n",
    "    datetime_columns = df.select_dtypes('datetime64[ns]').columns # датавремя\n",
    "    if (len(list(datetime_columns)) > 0):\n",
    "        display(df[datetime_columns].agg(['min','max']))\n",
    "        #print(f'''\\n''')\n",
    "    else:\n",
    "        print(f'''Нет колонок типа datetime\\n''')\n",
    "\n",
    "# функция для отображения круговой диаграммы распределения количества элементов по категории\n",
    "def show_category_pie(df, field, title):\n",
    "    '''\n",
    "    Отобразит круговую диаграмму распределения количества элементов по категории\n",
    "    '''\n",
    "    df[field]\\\n",
    "    .value_counts().plot(kind='pie', title = title + ', %', autopct='%1.0f%%', figsize=(5,5))\n",
    "    plt.ylabel('')\n",
    "    plt.show()\n",
    "\n",
    "# функция для отображения количественных признаков в виде графиков - гистограммы и ящика с усами\n",
    "def show_numeric_bplt_hist(df, variable, first_label, second_label, bins):\n",
    "    '''\n",
    "    Отобразит количественные признаки в виде графиков - гистограммы и ящика с усами\n",
    "    '''\n",
    "    fig, (ax1, ax2) = plt.subplots(1, 2, figsize=(15, 5))\n",
    "\n",
    "    ax1.hist(df[variable], bins=bins)\n",
    "    ax1.set_title('Гистограмма')\n",
    "    ax1.set_xlabel(first_label)\n",
    "    ax1.set_ylabel(second_label)    \n",
    "    ax1.grid(True)    \n",
    "    \n",
    "    ax2.boxplot(df[variable], vert=False)\n",
    "    ax2.set_title('Ящик с усами')\n",
    "    ax2.set_xlabel(first_label)\n",
    "    ax2.set_ylabel(second_label)\n",
    "    ax2.grid(True)\n",
    "    ax2.set_yticks([])\n",
    "\n",
    "    plt.show()\n",
    "    \n",
    "def show_two_barh(df_left, df_right, field, y_label, left_title, right_title):\n",
    "    '''\n",
    "    Отобразит две столбчатые диаграммы(горизонтальные) распределения количества элементов по категории для двух датасетов\n",
    "    '''\n",
    "    _, (ax1, ax2) = plt.subplots(1, 2, figsize=(20, 4))\n",
    "\n",
    "    df_left[field].value_counts(normalize=True).sort_values().plot.barh(alpha=0.5, color=colors[0], label='', ax=ax1)\n",
    "    ax1.set_title(left_title)\n",
    "    ax1.set_ylabel(y_label)    \n",
    "    df_right[field].value_counts(normalize=True).sort_values().plot.barh(alpha=0.5, color=colors[1], label='', ax=ax2)    \n",
    "    ax2.set_title(right_title)\n",
    "    plt.show()\n",
    "        \n",
    "def show_two_countplots(df_left, df_right, field, y_label, x_label, left_title, right_title, y_lim=(0, 100), rotation=0, sort_field=None, prefix=''):\n",
    "    '''\n",
    "    Отобразит две countplot диаграммы распределения количества элементов по категории для двух датасетов\n",
    "    '''\n",
    "    #if (sort_field):\n",
    "    #    df_left['day_index'] = df_left[sort_field] # индекс для сортировки\n",
    "    #    df_left_copy = df_left.sort_values(by=f'{prefix}_{sort_field}')[field].copy()\n",
    "    #    display(df_left_copy)     \n",
    "    \n",
    "    fig, axes = plt.subplots(1, 2)\n",
    "    fig.set_size_inches(16, 4)\n",
    "    \n",
    "    left = sns.countplot(df_left[field], color=colors[0], ax=axes[0], alpha=0.5)\n",
    "    left.set(xlabel=x_label, ylabel=y_label, title=left_title, ylim=y_lim)\n",
    "    left.set_xticklabels(left.get_xticklabels(), rotation=rotation)\n",
    "    \n",
    "    right = sns.countplot(df_right[field], color=colors[1], ax=axes[1], alpha=0.5)\n",
    "    right.set(xlabel=x_label, ylabel=y_label, title=right_title, ylim=y_lim)\n",
    "    right.set_xticklabels(right.get_xticklabels(), rotation=rotation)\n",
    "    \n",
    "    plt.show()    \n",
    "\n",
    "def count_lifetime(el):\n",
    "    '''\n",
    "    Посчитает количество дней существования стартапа\n",
    "    '''\n",
    "    if el['status'] == 'operating':\n",
    "        return (pd.to_datetime('2018-01-01') - el[\"founded_at\"]).days # самая \"правая\" дата по условию 2018-01-01\n",
    "    else:\n",
    "        return (el['closed_at'] - el[\"founded_at\"]).days\n",
    "\n",
    "def funding_per_round(value):\n",
    "    '''\n",
    "    Подсчитает финансирование за 1 раунд\n",
    "    '''\n",
    "    if value['funding_total_usd'] > 0:\n",
    "        return round(value['funding_total_usd'] / value['funding_rounds'])\n",
    "    else:\n",
    "        return 0\n",
    "\n",
    "def fill_nan_funding(value, funding_avg):\n",
    "    '''\n",
    "    Заполнит пропуски в 'funding_total_usd',\n",
    "    используя величину среднего финансирования за раунд и количество раундов\n",
    "    '''\n",
    "    if value['funding_total_usd'] > 0:        \n",
    "        return value['funding_total_usd']\n",
    "    else:\n",
    "        return value['funding_rounds'] * funding_avg\n",
    "\n",
    "def fill_funding_total_usd(df):\n",
    "    '''\n",
    "    Заполнит пропуски в 'funding_total_usd' для датафрейма df\n",
    "    '''\n",
    "    df['funding_per_round'] = df.apply(lambda x: funding_per_round(x), axis=1)\n",
    "    funding_median = df.query('funding_per_round > 0')['funding_per_round'].median()    \n",
    "    df['funding_total_usd'] = df.apply(lambda x: fill_nan_funding(x, funding_median), axis=1)\n",
    "    df = df.drop(columns=['funding_per_round'])\n",
    "    return df    "
   ]
  },
  {
   "cell_type": "code",
   "execution_count": 4,
   "id": "92275c60-cedc-4675-90be-6b6ef150566b",
   "metadata": {},
   "outputs": [],
   "source": [
    "# инициализация глобальных переменных\n",
    "RANDOM_STATE = 42 # Deep Thought number\n",
    "TEST_SIZE = 0.25 # размер выборки"
   ]
  },
  {
   "cell_type": "code",
   "execution_count": 5,
   "id": "2ef4b0a4-75a3-4122-80f1-bcaff49ce459",
   "metadata": {},
   "outputs": [],
   "source": [
    "# настройки\n",
    "pd.options.display.max_columns = None # необходимо чтобы head отобразил все колонки\n",
    "plt.rcParams['figure.figsize'] = [15, 3] # размеры графика по умолчанию\n",
    "sns.set(rc={'figure.figsize':(15, 10)}) # размеры графика seaborn по умолчанию\n",
    "pd.set_option('display.float_format', '{:.2f}'.format) # отобразит в колонках округленные данные до 6-ти знаков\n",
    "\n",
    "simplefilter(action='ignore', category=FutureWarning) # уберёт предупреждение \"Set `keepdims`\n",
    "\n",
    "# цвета для диаграмм\n",
    "colors = ['gray','#3672b4','#ac0936']"
   ]
  },
  {
   "cell_type": "markdown",
   "id": "32160e59-a83d-4ea7-b67c-8bc06a186923",
   "metadata": {},
   "source": [
    "# Загрузка и изучение данных"
   ]
  },
  {
   "cell_type": "markdown",
   "id": "3ab4dfa8-deb7-4ebf-a3cb-6ce9e17baf29",
   "metadata": {},
   "source": [
    "## Загрузка"
   ]
  },
  {
   "cell_type": "code",
   "execution_count": 6,
   "id": "287d97e4-614c-44dc-86d9-34beca88eeb9",
   "metadata": {},
   "outputs": [],
   "source": [
    "# загрузка данных в датасеты\n",
    "try:\n",
    "    apparel_purchases = pd.read_csv('./datasets/apparel-purchases.csv') # история покупок\n",
    "    apparel_messages = pd.read_csv('./datasets/apparel-messages.csv') # история рекламных рассылок\n",
    "    #apparel_messages = pd.read_csv('./datasets/apparel-messages-short.csv') # история рекламных рассылок\n",
    "    apparel_target = pd.read_csv('./datasets/apparel-target_binary.csv')  # целевой признак\n",
    "except:\n",
    "    print(\"Ошибка. Данные не загружены\")"
   ]
  },
  {
   "cell_type": "markdown",
   "id": "052de4a0-4aa7-47f0-9988-d13af9cf122a",
   "metadata": {},
   "source": [
    "### Сводная информация датасет - ``apparel_purchases``"
   ]
  },
  {
   "cell_type": "code",
   "execution_count": 7,
   "id": "2c8f32ba-d17b-4c9b-8226-289a3c4e5b6f",
   "metadata": {},
   "outputs": [
    {
     "name": "stdout",
     "output_type": "stream",
     "text": [
      "\n",
      "\n",
      "<class 'pandas.core.frame.DataFrame'>\n",
      "RangeIndex: 202208 entries, 0 to 202207\n",
      "Data columns (total 6 columns):\n",
      " #   Column        Non-Null Count   Dtype  \n",
      "---  ------        --------------   -----  \n",
      " 0   client_id     202208 non-null  int64  \n",
      " 1   quantity      202208 non-null  int64  \n",
      " 2   price         202208 non-null  float64\n",
      " 3   category_ids  202208 non-null  object \n",
      " 4   date          202208 non-null  object \n",
      " 5   message_id    202208 non-null  object \n",
      "dtypes: float64(1), int64(2), object(3)\n",
      "memory usage: 9.3+ MB\n",
      "\n",
      "\n"
     ]
    },
    {
     "data": {
      "text/html": [
       "<div>\n",
       "<style scoped>\n",
       "    .dataframe tbody tr th:only-of-type {\n",
       "        vertical-align: middle;\n",
       "    }\n",
       "\n",
       "    .dataframe tbody tr th {\n",
       "        vertical-align: top;\n",
       "    }\n",
       "\n",
       "    .dataframe thead th {\n",
       "        text-align: right;\n",
       "    }\n",
       "</style>\n",
       "<table border=\"1\" class=\"dataframe\">\n",
       "  <thead>\n",
       "    <tr style=\"text-align: right;\">\n",
       "      <th></th>\n",
       "      <th>client_id</th>\n",
       "      <th>quantity</th>\n",
       "      <th>price</th>\n",
       "    </tr>\n",
       "  </thead>\n",
       "  <tbody>\n",
       "    <tr>\n",
       "      <th>count</th>\n",
       "      <td>202208.00</td>\n",
       "      <td>202208.00</td>\n",
       "      <td>202208.00</td>\n",
       "    </tr>\n",
       "    <tr>\n",
       "      <th>mean</th>\n",
       "      <td>1515915625596210944.00</td>\n",
       "      <td>1.01</td>\n",
       "      <td>1193.30</td>\n",
       "    </tr>\n",
       "    <tr>\n",
       "      <th>std</th>\n",
       "      <td>145945755.93</td>\n",
       "      <td>0.18</td>\n",
       "      <td>1342.25</td>\n",
       "    </tr>\n",
       "    <tr>\n",
       "      <th>min</th>\n",
       "      <td>1515915625468060928.00</td>\n",
       "      <td>1.00</td>\n",
       "      <td>1.00</td>\n",
       "    </tr>\n",
       "    <tr>\n",
       "      <th>25%</th>\n",
       "      <td>1515915625490081280.00</td>\n",
       "      <td>1.00</td>\n",
       "      <td>352.00</td>\n",
       "    </tr>\n",
       "    <tr>\n",
       "      <th>50%</th>\n",
       "      <td>1515915625557177088.00</td>\n",
       "      <td>1.00</td>\n",
       "      <td>987.00</td>\n",
       "    </tr>\n",
       "    <tr>\n",
       "      <th>75%</th>\n",
       "      <td>1515915625624391936.00</td>\n",
       "      <td>1.00</td>\n",
       "      <td>1699.00</td>\n",
       "    </tr>\n",
       "    <tr>\n",
       "      <th>max</th>\n",
       "      <td>1515915626010443520.00</td>\n",
       "      <td>30.00</td>\n",
       "      <td>85499.00</td>\n",
       "    </tr>\n",
       "  </tbody>\n",
       "</table>\n",
       "</div>"
      ],
      "text/plain": [
       "                   client_id  quantity     price\n",
       "count              202208.00 202208.00 202208.00\n",
       "mean  1515915625596210944.00      1.01   1193.30\n",
       "std             145945755.93      0.18   1342.25\n",
       "min   1515915625468060928.00      1.00      1.00\n",
       "25%   1515915625490081280.00      1.00    352.00\n",
       "50%   1515915625557177088.00      1.00    987.00\n",
       "75%   1515915625624391936.00      1.00   1699.00\n",
       "max   1515915626010443520.00     30.00  85499.00"
      ]
     },
     "metadata": {},
     "output_type": "display_data"
    },
    {
     "name": "stdout",
     "output_type": "stream",
     "text": [
      "\n",
      "\n"
     ]
    },
    {
     "data": {
      "text/html": [
       "<div>\n",
       "<style scoped>\n",
       "    .dataframe tbody tr th:only-of-type {\n",
       "        vertical-align: middle;\n",
       "    }\n",
       "\n",
       "    .dataframe tbody tr th {\n",
       "        vertical-align: top;\n",
       "    }\n",
       "\n",
       "    .dataframe thead th {\n",
       "        text-align: right;\n",
       "    }\n",
       "</style>\n",
       "<table border=\"1\" class=\"dataframe\">\n",
       "  <thead>\n",
       "    <tr style=\"text-align: right;\">\n",
       "      <th></th>\n",
       "      <th>client_id</th>\n",
       "      <th>quantity</th>\n",
       "      <th>price</th>\n",
       "      <th>category_ids</th>\n",
       "      <th>date</th>\n",
       "      <th>message_id</th>\n",
       "    </tr>\n",
       "  </thead>\n",
       "  <tbody>\n",
       "    <tr>\n",
       "      <th>0</th>\n",
       "      <td>1515915625468169594</td>\n",
       "      <td>1</td>\n",
       "      <td>1999.00</td>\n",
       "      <td>['4', '28', '57', '431']</td>\n",
       "      <td>2022-05-16</td>\n",
       "      <td>1515915625468169594-4301-627b661e9736d</td>\n",
       "    </tr>\n",
       "    <tr>\n",
       "      <th>1</th>\n",
       "      <td>1515915625468169594</td>\n",
       "      <td>1</td>\n",
       "      <td>2499.00</td>\n",
       "      <td>['4', '28', '57', '431']</td>\n",
       "      <td>2022-05-16</td>\n",
       "      <td>1515915625468169594-4301-627b661e9736d</td>\n",
       "    </tr>\n",
       "    <tr>\n",
       "      <th>2</th>\n",
       "      <td>1515915625471138230</td>\n",
       "      <td>1</td>\n",
       "      <td>6499.00</td>\n",
       "      <td>['4', '28', '57', '431']</td>\n",
       "      <td>2022-05-16</td>\n",
       "      <td>1515915625471138230-4437-6282242f27843</td>\n",
       "    </tr>\n",
       "  </tbody>\n",
       "</table>\n",
       "</div>"
      ],
      "text/plain": [
       "             client_id  quantity   price              category_ids  \\\n",
       "0  1515915625468169594         1 1999.00  ['4', '28', '57', '431']   \n",
       "1  1515915625468169594         1 2499.00  ['4', '28', '57', '431']   \n",
       "2  1515915625471138230         1 6499.00  ['4', '28', '57', '431']   \n",
       "\n",
       "         date                              message_id  \n",
       "0  2022-05-16  1515915625468169594-4301-627b661e9736d  \n",
       "1  2022-05-16  1515915625468169594-4301-627b661e9736d  \n",
       "2  2022-05-16  1515915625471138230-4437-6282242f27843  "
      ]
     },
     "metadata": {},
     "output_type": "display_data"
    },
    {
     "name": "stdout",
     "output_type": "stream",
     "text": [
      "\n",
      "\n",
      "Явных дублей: 73020\n",
      "\n",
      "\n",
      "Пропущенных значений:\n",
      "client_id       0\n",
      "quantity        0\n",
      "price           0\n",
      "category_ids    0\n",
      "date            0\n",
      "message_id      0\n",
      "dtype: int64\n",
      "\n",
      "\n"
     ]
    }
   ],
   "source": [
    "dataset_info(apparel_purchases)"
   ]
  },
  {
   "cell_type": "markdown",
   "id": "039e5bee-5f3f-4960-aea9-224bfb5a6ccb",
   "metadata": {},
   "source": [
    "<span style=\"color: darkgreen\">Пропущенных значений - нет. </span><br>\n",
    "<span style=\"color: #f85c00\">Есть 73020 **явных дублей**, которые **необходимо удалить**.<br>\n",
    "Типы данных выглядят нормально за исключением атрибута - **date**, который необходимо привести к типу **datetime64[ns]**.\n",
    "</span>"
   ]
  },
  {
   "cell_type": "markdown",
   "id": "9ce58f71-30fd-4d55-9ceb-7573eafebe0e",
   "metadata": {},
   "source": [
    "### Сводная информация датасет - ``apparel_messages``"
   ]
  },
  {
   "cell_type": "code",
   "execution_count": 8,
   "id": "de84ee27-8b36-4ab6-bc64-28678a8ccfe2",
   "metadata": {},
   "outputs": [
    {
     "name": "stdout",
     "output_type": "stream",
     "text": [
      "\n",
      "\n",
      "<class 'pandas.core.frame.DataFrame'>\n",
      "RangeIndex: 12739798 entries, 0 to 12739797\n",
      "Data columns (total 7 columns):\n",
      " #   Column            Dtype \n",
      "---  ------            ----- \n",
      " 0   bulk_campaign_id  int64 \n",
      " 1   client_id         int64 \n",
      " 2   message_id        object\n",
      " 3   event             object\n",
      " 4   channel           object\n",
      " 5   date              object\n",
      " 6   created_at        object\n",
      "dtypes: int64(2), object(5)\n",
      "memory usage: 680.4+ MB\n",
      "\n",
      "\n"
     ]
    },
    {
     "data": {
      "text/html": [
       "<div>\n",
       "<style scoped>\n",
       "    .dataframe tbody tr th:only-of-type {\n",
       "        vertical-align: middle;\n",
       "    }\n",
       "\n",
       "    .dataframe tbody tr th {\n",
       "        vertical-align: top;\n",
       "    }\n",
       "\n",
       "    .dataframe thead th {\n",
       "        text-align: right;\n",
       "    }\n",
       "</style>\n",
       "<table border=\"1\" class=\"dataframe\">\n",
       "  <thead>\n",
       "    <tr style=\"text-align: right;\">\n",
       "      <th></th>\n",
       "      <th>bulk_campaign_id</th>\n",
       "      <th>client_id</th>\n",
       "    </tr>\n",
       "  </thead>\n",
       "  <tbody>\n",
       "    <tr>\n",
       "      <th>count</th>\n",
       "      <td>12739798.00</td>\n",
       "      <td>12739798.00</td>\n",
       "    </tr>\n",
       "    <tr>\n",
       "      <th>mean</th>\n",
       "      <td>11604.59</td>\n",
       "      <td>1515915625574831616.00</td>\n",
       "    </tr>\n",
       "    <tr>\n",
       "      <th>std</th>\n",
       "      <td>3259.21</td>\n",
       "      <td>132970411.56</td>\n",
       "    </tr>\n",
       "    <tr>\n",
       "      <th>min</th>\n",
       "      <td>548.00</td>\n",
       "      <td>1515915625468060928.00</td>\n",
       "    </tr>\n",
       "    <tr>\n",
       "      <th>25%</th>\n",
       "      <td>8746.00</td>\n",
       "      <td>1515915625489149440.00</td>\n",
       "    </tr>\n",
       "    <tr>\n",
       "      <th>50%</th>\n",
       "      <td>13516.00</td>\n",
       "      <td>1515915625503432192.00</td>\n",
       "    </tr>\n",
       "    <tr>\n",
       "      <th>75%</th>\n",
       "      <td>14158.00</td>\n",
       "      <td>1515915625591286272.00</td>\n",
       "    </tr>\n",
       "    <tr>\n",
       "      <th>max</th>\n",
       "      <td>14657.00</td>\n",
       "      <td>1515915626010288640.00</td>\n",
       "    </tr>\n",
       "  </tbody>\n",
       "</table>\n",
       "</div>"
      ],
      "text/plain": [
       "       bulk_campaign_id              client_id\n",
       "count       12739798.00            12739798.00\n",
       "mean           11604.59 1515915625574831616.00\n",
       "std             3259.21           132970411.56\n",
       "min              548.00 1515915625468060928.00\n",
       "25%             8746.00 1515915625489149440.00\n",
       "50%            13516.00 1515915625503432192.00\n",
       "75%            14158.00 1515915625591286272.00\n",
       "max            14657.00 1515915626010288640.00"
      ]
     },
     "metadata": {},
     "output_type": "display_data"
    },
    {
     "name": "stdout",
     "output_type": "stream",
     "text": [
      "\n",
      "\n"
     ]
    },
    {
     "data": {
      "text/html": [
       "<div>\n",
       "<style scoped>\n",
       "    .dataframe tbody tr th:only-of-type {\n",
       "        vertical-align: middle;\n",
       "    }\n",
       "\n",
       "    .dataframe tbody tr th {\n",
       "        vertical-align: top;\n",
       "    }\n",
       "\n",
       "    .dataframe thead th {\n",
       "        text-align: right;\n",
       "    }\n",
       "</style>\n",
       "<table border=\"1\" class=\"dataframe\">\n",
       "  <thead>\n",
       "    <tr style=\"text-align: right;\">\n",
       "      <th></th>\n",
       "      <th>bulk_campaign_id</th>\n",
       "      <th>client_id</th>\n",
       "      <th>message_id</th>\n",
       "      <th>event</th>\n",
       "      <th>channel</th>\n",
       "      <th>date</th>\n",
       "      <th>created_at</th>\n",
       "    </tr>\n",
       "  </thead>\n",
       "  <tbody>\n",
       "    <tr>\n",
       "      <th>0</th>\n",
       "      <td>4439</td>\n",
       "      <td>1515915625626736623</td>\n",
       "      <td>1515915625626736623-4439-6283415ac07ea</td>\n",
       "      <td>open</td>\n",
       "      <td>email</td>\n",
       "      <td>2022-05-19</td>\n",
       "      <td>2022-05-19 00:14:20</td>\n",
       "    </tr>\n",
       "    <tr>\n",
       "      <th>1</th>\n",
       "      <td>4439</td>\n",
       "      <td>1515915625490086521</td>\n",
       "      <td>1515915625490086521-4439-62834150016dd</td>\n",
       "      <td>open</td>\n",
       "      <td>email</td>\n",
       "      <td>2022-05-19</td>\n",
       "      <td>2022-05-19 00:39:34</td>\n",
       "    </tr>\n",
       "    <tr>\n",
       "      <th>2</th>\n",
       "      <td>4439</td>\n",
       "      <td>1515915625553578558</td>\n",
       "      <td>1515915625553578558-4439-6283415b36b4f</td>\n",
       "      <td>open</td>\n",
       "      <td>email</td>\n",
       "      <td>2022-05-19</td>\n",
       "      <td>2022-05-19 00:51:49</td>\n",
       "    </tr>\n",
       "  </tbody>\n",
       "</table>\n",
       "</div>"
      ],
      "text/plain": [
       "   bulk_campaign_id            client_id  \\\n",
       "0              4439  1515915625626736623   \n",
       "1              4439  1515915625490086521   \n",
       "2              4439  1515915625553578558   \n",
       "\n",
       "                               message_id event channel        date  \\\n",
       "0  1515915625626736623-4439-6283415ac07ea  open   email  2022-05-19   \n",
       "1  1515915625490086521-4439-62834150016dd  open   email  2022-05-19   \n",
       "2  1515915625553578558-4439-6283415b36b4f  open   email  2022-05-19   \n",
       "\n",
       "            created_at  \n",
       "0  2022-05-19 00:14:20  \n",
       "1  2022-05-19 00:39:34  \n",
       "2  2022-05-19 00:51:49  "
      ]
     },
     "metadata": {},
     "output_type": "display_data"
    },
    {
     "name": "stdout",
     "output_type": "stream",
     "text": [
      "\n",
      "\n",
      "Явных дублей: 48610\n",
      "\n",
      "\n",
      "Пропущенных значений:\n",
      "bulk_campaign_id    0\n",
      "client_id           0\n",
      "message_id          0\n",
      "event               0\n",
      "channel             0\n",
      "date                0\n",
      "created_at          0\n",
      "dtype: int64\n",
      "\n",
      "\n"
     ]
    }
   ],
   "source": [
    "dataset_info(apparel_messages)"
   ]
  },
  {
   "cell_type": "markdown",
   "id": "d6456e94-50ff-4506-8199-7129b4d7b3d0",
   "metadata": {},
   "source": [
    "<span style=\"color: darkgreen\">Пропущенных значений - нет. </span><br>\n",
    "<span style=\"color: #f85c00\">Есть 48610 **явных дублей**, которые **необходимо удалить**.<br>\n",
    "Типы данных выглядят нормально за исключением атрибутов - **date** и **created_at**, которые необходимо привести к типу **datetime64[ns]**.\n",
    "</span>"
   ]
  },
  {
   "cell_type": "markdown",
   "id": "d472fa8d-ad03-4d71-8012-6d6d01ae21b3",
   "metadata": {},
   "source": [
    "### Сводная информация датасет - ``apparel_target``"
   ]
  },
  {
   "cell_type": "code",
   "execution_count": 9,
   "id": "0b52133d-823c-4be1-b4d8-f35823704a5f",
   "metadata": {},
   "outputs": [
    {
     "name": "stdout",
     "output_type": "stream",
     "text": [
      "\n",
      "\n",
      "<class 'pandas.core.frame.DataFrame'>\n",
      "RangeIndex: 49849 entries, 0 to 49848\n",
      "Data columns (total 2 columns):\n",
      " #   Column     Non-Null Count  Dtype\n",
      "---  ------     --------------  -----\n",
      " 0   client_id  49849 non-null  int64\n",
      " 1   target     49849 non-null  int64\n",
      "dtypes: int64(2)\n",
      "memory usage: 779.0 KB\n",
      "\n",
      "\n"
     ]
    },
    {
     "data": {
      "text/html": [
       "<div>\n",
       "<style scoped>\n",
       "    .dataframe tbody tr th:only-of-type {\n",
       "        vertical-align: middle;\n",
       "    }\n",
       "\n",
       "    .dataframe tbody tr th {\n",
       "        vertical-align: top;\n",
       "    }\n",
       "\n",
       "    .dataframe thead th {\n",
       "        text-align: right;\n",
       "    }\n",
       "</style>\n",
       "<table border=\"1\" class=\"dataframe\">\n",
       "  <thead>\n",
       "    <tr style=\"text-align: right;\">\n",
       "      <th></th>\n",
       "      <th>client_id</th>\n",
       "      <th>target</th>\n",
       "    </tr>\n",
       "  </thead>\n",
       "  <tbody>\n",
       "    <tr>\n",
       "      <th>count</th>\n",
       "      <td>49849.00</td>\n",
       "      <td>49849.00</td>\n",
       "    </tr>\n",
       "    <tr>\n",
       "      <th>mean</th>\n",
       "      <td>1515915625598796032.00</td>\n",
       "      <td>0.02</td>\n",
       "    </tr>\n",
       "    <tr>\n",
       "      <th>std</th>\n",
       "      <td>148794654.89</td>\n",
       "      <td>0.14</td>\n",
       "    </tr>\n",
       "    <tr>\n",
       "      <th>min</th>\n",
       "      <td>1515915625468060928.00</td>\n",
       "      <td>0.00</td>\n",
       "    </tr>\n",
       "    <tr>\n",
       "      <th>25%</th>\n",
       "      <td>1515915625489972736.00</td>\n",
       "      <td>0.00</td>\n",
       "    </tr>\n",
       "    <tr>\n",
       "      <th>50%</th>\n",
       "      <td>1515915625556614912.00</td>\n",
       "      <td>0.00</td>\n",
       "    </tr>\n",
       "    <tr>\n",
       "      <th>75%</th>\n",
       "      <td>1515915625633408768.00</td>\n",
       "      <td>0.00</td>\n",
       "    </tr>\n",
       "    <tr>\n",
       "      <th>max</th>\n",
       "      <td>1515915626010443520.00</td>\n",
       "      <td>1.00</td>\n",
       "    </tr>\n",
       "  </tbody>\n",
       "</table>\n",
       "</div>"
      ],
      "text/plain": [
       "                   client_id   target\n",
       "count               49849.00 49849.00\n",
       "mean  1515915625598796032.00     0.02\n",
       "std             148794654.89     0.14\n",
       "min   1515915625468060928.00     0.00\n",
       "25%   1515915625489972736.00     0.00\n",
       "50%   1515915625556614912.00     0.00\n",
       "75%   1515915625633408768.00     0.00\n",
       "max   1515915626010443520.00     1.00"
      ]
     },
     "metadata": {},
     "output_type": "display_data"
    },
    {
     "name": "stdout",
     "output_type": "stream",
     "text": [
      "\n",
      "\n"
     ]
    },
    {
     "data": {
      "text/html": [
       "<div>\n",
       "<style scoped>\n",
       "    .dataframe tbody tr th:only-of-type {\n",
       "        vertical-align: middle;\n",
       "    }\n",
       "\n",
       "    .dataframe tbody tr th {\n",
       "        vertical-align: top;\n",
       "    }\n",
       "\n",
       "    .dataframe thead th {\n",
       "        text-align: right;\n",
       "    }\n",
       "</style>\n",
       "<table border=\"1\" class=\"dataframe\">\n",
       "  <thead>\n",
       "    <tr style=\"text-align: right;\">\n",
       "      <th></th>\n",
       "      <th>client_id</th>\n",
       "      <th>target</th>\n",
       "    </tr>\n",
       "  </thead>\n",
       "  <tbody>\n",
       "    <tr>\n",
       "      <th>0</th>\n",
       "      <td>1515915625468060902</td>\n",
       "      <td>0</td>\n",
       "    </tr>\n",
       "    <tr>\n",
       "      <th>1</th>\n",
       "      <td>1515915625468061003</td>\n",
       "      <td>1</td>\n",
       "    </tr>\n",
       "    <tr>\n",
       "      <th>2</th>\n",
       "      <td>1515915625468061099</td>\n",
       "      <td>0</td>\n",
       "    </tr>\n",
       "  </tbody>\n",
       "</table>\n",
       "</div>"
      ],
      "text/plain": [
       "             client_id  target\n",
       "0  1515915625468060902       0\n",
       "1  1515915625468061003       1\n",
       "2  1515915625468061099       0"
      ]
     },
     "metadata": {},
     "output_type": "display_data"
    },
    {
     "name": "stdout",
     "output_type": "stream",
     "text": [
      "\n",
      "\n",
      "Явных дублей: 0\n",
      "\n",
      "\n",
      "Пропущенных значений:\n",
      "client_id    0\n",
      "target       0\n",
      "dtype: int64\n",
      "\n",
      "\n"
     ]
    }
   ],
   "source": [
    "dataset_info(apparel_target)"
   ]
  },
  {
   "cell_type": "markdown",
   "id": "c9af4efe-d510-41b7-8c38-bdd3f71a6cdf",
   "metadata": {},
   "source": [
    "<span style=\"color: darkgreen\">Пропущенных значений - нет. <br>\n",
    "Явных дублей - нет.<br>\n",
    "Типы данных выглядят нормально.\n",
    "</span>"
   ]
  },
  {
   "cell_type": "markdown",
   "id": "9ee17124-4b9a-49b9-a015-5497134259d5",
   "metadata": {},
   "source": [
    "**Вывод:**\r\n",
    "- Во всех трёх датасетах нет пропусков;\r\n",
    "- В датасетах ``apparel_purchases`` и ``apparel_messages`` есть явные дубли, которые необходимо удалить;\r\n",
    "- Так же в датасетах ``apparel_purchases`` и ``apparel_messages`` есть атрибуты ``date`` и ``created_at``, которые необходимо привети к типу **datetime64[ns]**."
   ]
  },
  {
   "cell_type": "markdown",
   "id": "24e772e9-3e19-44c2-976a-1aed03e5a3bc",
   "metadata": {},
   "source": [
    "# Предобработка данных"
   ]
  },
  {
   "cell_type": "markdown",
   "id": "cec7f780-8a8a-416e-8ca0-4d1e4e639873",
   "metadata": {},
   "source": [
    "## Приведение типов данных колонок к **datetime64**"
   ]
  },
  {
   "cell_type": "markdown",
   "id": "a78e2ccf-1bed-45ef-9ff4-d542c7ca54ea",
   "metadata": {},
   "source": [
    "### ``apparel_purchases`` - атрибут \"date\""
   ]
  },
  {
   "cell_type": "code",
   "execution_count": 10,
   "id": "713db32b-7a17-4ed5-968f-c172890286ff",
   "metadata": {},
   "outputs": [],
   "source": [
    "date_cols = [\"date\"]\n",
    "apparel_purchases[date_cols] = apparel_purchases[date_cols].astype(\"datetime64[ns]\")"
   ]
  },
  {
   "cell_type": "code",
   "execution_count": 11,
   "id": "07a7f3c1-7839-435b-a68c-00e9babfdafb",
   "metadata": {},
   "outputs": [
    {
     "name": "stdout",
     "output_type": "stream",
     "text": [
      "<class 'pandas.core.frame.DataFrame'>\n",
      "RangeIndex: 202208 entries, 0 to 202207\n",
      "Data columns (total 6 columns):\n",
      " #   Column        Non-Null Count   Dtype         \n",
      "---  ------        --------------   -----         \n",
      " 0   client_id     202208 non-null  int64         \n",
      " 1   quantity      202208 non-null  int64         \n",
      " 2   price         202208 non-null  float64       \n",
      " 3   category_ids  202208 non-null  object        \n",
      " 4   date          202208 non-null  datetime64[ns]\n",
      " 5   message_id    202208 non-null  object        \n",
      "dtypes: datetime64[ns](1), float64(1), int64(2), object(2)\n",
      "memory usage: 9.3+ MB\n"
     ]
    }
   ],
   "source": [
    "apparel_purchases.info()"
   ]
  },
  {
   "cell_type": "markdown",
   "id": "5575b16e-a1af-40d5-a37e-68620d45227e",
   "metadata": {},
   "source": [
    "### ``apparel_messages`` - атрибуты \"date\" и \"created_at\""
   ]
  },
  {
   "cell_type": "code",
   "execution_count": 12,
   "id": "17acbd5e-96ff-416e-9956-d63468ea58ad",
   "metadata": {},
   "outputs": [],
   "source": [
    "date_cols = [\"date\",\"created_at\"]\n",
    "apparel_messages[date_cols] = apparel_messages[date_cols].astype(\"datetime64[ns]\")"
   ]
  },
  {
   "cell_type": "code",
   "execution_count": 13,
   "id": "7ab590e7-6322-40f2-9bab-ece5d2aa3024",
   "metadata": {},
   "outputs": [
    {
     "name": "stdout",
     "output_type": "stream",
     "text": [
      "<class 'pandas.core.frame.DataFrame'>\n",
      "RangeIndex: 12739798 entries, 0 to 12739797\n",
      "Data columns (total 7 columns):\n",
      " #   Column            Dtype         \n",
      "---  ------            -----         \n",
      " 0   bulk_campaign_id  int64         \n",
      " 1   client_id         int64         \n",
      " 2   message_id        object        \n",
      " 3   event             object        \n",
      " 4   channel           object        \n",
      " 5   date              datetime64[ns]\n",
      " 6   created_at        datetime64[ns]\n",
      "dtypes: datetime64[ns](2), int64(2), object(3)\n",
      "memory usage: 680.4+ MB\n"
     ]
    }
   ],
   "source": [
    "apparel_messages.info()"
   ]
  },
  {
   "cell_type": "markdown",
   "id": "06845805-3e48-4490-a1a1-913d5bc59c5e",
   "metadata": {},
   "source": [
    "<span style=\"color: darkgreen\">Типы данных в столбцах датасетов - корректны.</span>"
   ]
  },
  {
   "cell_type": "markdown",
   "id": "85dbfac5-c9cb-4732-bc50-faf496fa1fc6",
   "metadata": {},
   "source": [
    "## Удаление явных дубликатов"
   ]
  },
  {
   "cell_type": "markdown",
   "id": "c389f326-a8aa-420b-b782-ca95866469f2",
   "metadata": {},
   "source": [
    "### ``apparel_purchases``"
   ]
  },
  {
   "cell_type": "code",
   "execution_count": 14,
   "id": "1a4b9860-3a74-46a7-acf5-10aeeff36f4d",
   "metadata": {},
   "outputs": [
    {
     "data": {
      "text/html": [
       "<div>\n",
       "<style scoped>\n",
       "    .dataframe tbody tr th:only-of-type {\n",
       "        vertical-align: middle;\n",
       "    }\n",
       "\n",
       "    .dataframe tbody tr th {\n",
       "        vertical-align: top;\n",
       "    }\n",
       "\n",
       "    .dataframe thead th {\n",
       "        text-align: right;\n",
       "    }\n",
       "</style>\n",
       "<table border=\"1\" class=\"dataframe\">\n",
       "  <thead>\n",
       "    <tr style=\"text-align: right;\">\n",
       "      <th></th>\n",
       "      <th>client_id</th>\n",
       "      <th>quantity</th>\n",
       "      <th>price</th>\n",
       "      <th>category_ids</th>\n",
       "      <th>date</th>\n",
       "      <th>message_id</th>\n",
       "    </tr>\n",
       "  </thead>\n",
       "  <tbody>\n",
       "    <tr>\n",
       "      <th>0</th>\n",
       "      <td>1515915625468169594</td>\n",
       "      <td>1</td>\n",
       "      <td>1999.00</td>\n",
       "      <td>['4', '28', '57', '431']</td>\n",
       "      <td>2022-05-16</td>\n",
       "      <td>1515915625468169594-4301-627b661e9736d</td>\n",
       "    </tr>\n",
       "    <tr>\n",
       "      <th>1</th>\n",
       "      <td>1515915625468169594</td>\n",
       "      <td>1</td>\n",
       "      <td>2499.00</td>\n",
       "      <td>['4', '28', '57', '431']</td>\n",
       "      <td>2022-05-16</td>\n",
       "      <td>1515915625468169594-4301-627b661e9736d</td>\n",
       "    </tr>\n",
       "    <tr>\n",
       "      <th>2</th>\n",
       "      <td>1515915625471138230</td>\n",
       "      <td>1</td>\n",
       "      <td>6499.00</td>\n",
       "      <td>['4', '28', '57', '431']</td>\n",
       "      <td>2022-05-16</td>\n",
       "      <td>1515915625471138230-4437-6282242f27843</td>\n",
       "    </tr>\n",
       "  </tbody>\n",
       "</table>\n",
       "</div>"
      ],
      "text/plain": [
       "             client_id  quantity   price              category_ids       date  \\\n",
       "0  1515915625468169594         1 1999.00  ['4', '28', '57', '431'] 2022-05-16   \n",
       "1  1515915625468169594         1 2499.00  ['4', '28', '57', '431'] 2022-05-16   \n",
       "2  1515915625471138230         1 6499.00  ['4', '28', '57', '431'] 2022-05-16   \n",
       "\n",
       "                               message_id  \n",
       "0  1515915625468169594-4301-627b661e9736d  \n",
       "1  1515915625468169594-4301-627b661e9736d  \n",
       "2  1515915625471138230-4437-6282242f27843  "
      ]
     },
     "execution_count": 14,
     "metadata": {},
     "output_type": "execute_result"
    }
   ],
   "source": [
    "apparel_purchases.drop_duplicates(inplace=True)\n",
    "apparel_purchases.head(3)"
   ]
  },
  {
   "cell_type": "code",
   "execution_count": 15,
   "id": "4002af16-a5f0-49e1-9a89-d7d5346936b6",
   "metadata": {},
   "outputs": [
    {
     "data": {
      "text/plain": [
       "0"
      ]
     },
     "execution_count": 15,
     "metadata": {},
     "output_type": "execute_result"
    }
   ],
   "source": [
    "apparel_purchases.duplicated().sum()"
   ]
  },
  {
   "cell_type": "markdown",
   "id": "52b12435-7d72-4fb6-b97b-8f3935cef3f1",
   "metadata": {},
   "source": [
    "Дубликаты успешно удалены."
   ]
  },
  {
   "cell_type": "markdown",
   "id": "af0c02bf-99a5-4f65-8556-b46503d38dad",
   "metadata": {},
   "source": [
    "### ``apparel_messages``"
   ]
  },
  {
   "cell_type": "code",
   "execution_count": 16,
   "id": "d72062c7-a2c4-4879-8839-3b45169e4aaf",
   "metadata": {},
   "outputs": [
    {
     "data": {
      "text/html": [
       "<div>\n",
       "<style scoped>\n",
       "    .dataframe tbody tr th:only-of-type {\n",
       "        vertical-align: middle;\n",
       "    }\n",
       "\n",
       "    .dataframe tbody tr th {\n",
       "        vertical-align: top;\n",
       "    }\n",
       "\n",
       "    .dataframe thead th {\n",
       "        text-align: right;\n",
       "    }\n",
       "</style>\n",
       "<table border=\"1\" class=\"dataframe\">\n",
       "  <thead>\n",
       "    <tr style=\"text-align: right;\">\n",
       "      <th></th>\n",
       "      <th>bulk_campaign_id</th>\n",
       "      <th>client_id</th>\n",
       "      <th>message_id</th>\n",
       "      <th>event</th>\n",
       "      <th>channel</th>\n",
       "      <th>date</th>\n",
       "      <th>created_at</th>\n",
       "    </tr>\n",
       "  </thead>\n",
       "  <tbody>\n",
       "    <tr>\n",
       "      <th>0</th>\n",
       "      <td>4439</td>\n",
       "      <td>1515915625626736623</td>\n",
       "      <td>1515915625626736623-4439-6283415ac07ea</td>\n",
       "      <td>open</td>\n",
       "      <td>email</td>\n",
       "      <td>2022-05-19</td>\n",
       "      <td>2022-05-19 00:14:20</td>\n",
       "    </tr>\n",
       "    <tr>\n",
       "      <th>1</th>\n",
       "      <td>4439</td>\n",
       "      <td>1515915625490086521</td>\n",
       "      <td>1515915625490086521-4439-62834150016dd</td>\n",
       "      <td>open</td>\n",
       "      <td>email</td>\n",
       "      <td>2022-05-19</td>\n",
       "      <td>2022-05-19 00:39:34</td>\n",
       "    </tr>\n",
       "    <tr>\n",
       "      <th>2</th>\n",
       "      <td>4439</td>\n",
       "      <td>1515915625553578558</td>\n",
       "      <td>1515915625553578558-4439-6283415b36b4f</td>\n",
       "      <td>open</td>\n",
       "      <td>email</td>\n",
       "      <td>2022-05-19</td>\n",
       "      <td>2022-05-19 00:51:49</td>\n",
       "    </tr>\n",
       "  </tbody>\n",
       "</table>\n",
       "</div>"
      ],
      "text/plain": [
       "   bulk_campaign_id            client_id  \\\n",
       "0              4439  1515915625626736623   \n",
       "1              4439  1515915625490086521   \n",
       "2              4439  1515915625553578558   \n",
       "\n",
       "                               message_id event channel       date  \\\n",
       "0  1515915625626736623-4439-6283415ac07ea  open   email 2022-05-19   \n",
       "1  1515915625490086521-4439-62834150016dd  open   email 2022-05-19   \n",
       "2  1515915625553578558-4439-6283415b36b4f  open   email 2022-05-19   \n",
       "\n",
       "           created_at  \n",
       "0 2022-05-19 00:14:20  \n",
       "1 2022-05-19 00:39:34  \n",
       "2 2022-05-19 00:51:49  "
      ]
     },
     "execution_count": 16,
     "metadata": {},
     "output_type": "execute_result"
    }
   ],
   "source": [
    "apparel_messages.drop_duplicates(inplace=True)\n",
    "apparel_messages.head(3)"
   ]
  },
  {
   "cell_type": "code",
   "execution_count": 17,
   "id": "0db7c384-b32a-409f-89b3-4c6b58bfe0e9",
   "metadata": {},
   "outputs": [
    {
     "data": {
      "text/plain": [
       "0"
      ]
     },
     "execution_count": 17,
     "metadata": {},
     "output_type": "execute_result"
    }
   ],
   "source": [
    "apparel_messages.duplicated().sum()"
   ]
  },
  {
   "cell_type": "markdown",
   "id": "20bf0147-2215-464f-a706-a1294c171df2",
   "metadata": {},
   "source": [
    "Дубликаты успешно удалены."
   ]
  },
  {
   "cell_type": "markdown",
   "id": "2a1c506b-feff-4fa6-9865-a7ae3641f0ff",
   "metadata": {},
   "source": [
    "## Анализ данных колонок типа **datetime64**"
   ]
  },
  {
   "cell_type": "markdown",
   "id": "78698cff-9e60-4c30-8962-04d5aea9a648",
   "metadata": {},
   "source": [
    "### ``apparel_purchases``"
   ]
  },
  {
   "cell_type": "code",
   "execution_count": 18,
   "id": "57160400-9faf-4bdd-8e50-d6ed50498cde",
   "metadata": {},
   "outputs": [
    {
     "data": {
      "text/html": [
       "<div>\n",
       "<style scoped>\n",
       "    .dataframe tbody tr th:only-of-type {\n",
       "        vertical-align: middle;\n",
       "    }\n",
       "\n",
       "    .dataframe tbody tr th {\n",
       "        vertical-align: top;\n",
       "    }\n",
       "\n",
       "    .dataframe thead th {\n",
       "        text-align: right;\n",
       "    }\n",
       "</style>\n",
       "<table border=\"1\" class=\"dataframe\">\n",
       "  <thead>\n",
       "    <tr style=\"text-align: right;\">\n",
       "      <th></th>\n",
       "      <th>date</th>\n",
       "    </tr>\n",
       "  </thead>\n",
       "  <tbody>\n",
       "    <tr>\n",
       "      <th>min</th>\n",
       "      <td>2022-05-16</td>\n",
       "    </tr>\n",
       "    <tr>\n",
       "      <th>max</th>\n",
       "      <td>2024-02-16</td>\n",
       "    </tr>\n",
       "  </tbody>\n",
       "</table>\n",
       "</div>"
      ],
      "text/plain": [
       "          date\n",
       "min 2022-05-16\n",
       "max 2024-02-16"
      ]
     },
     "metadata": {},
     "output_type": "display_data"
    }
   ],
   "source": [
    "dataset_tm_info(apparel_purchases)"
   ]
  },
  {
   "cell_type": "markdown",
   "id": "0bef1ada-2360-4b8e-a541-ec471b6d1ace",
   "metadata": {},
   "source": [
    "### ``apparel_messages``"
   ]
  },
  {
   "cell_type": "code",
   "execution_count": 19,
   "id": "c2967e29-f790-450a-8ca5-e6c9f06e58bf",
   "metadata": {},
   "outputs": [
    {
     "data": {
      "text/html": [
       "<div>\n",
       "<style scoped>\n",
       "    .dataframe tbody tr th:only-of-type {\n",
       "        vertical-align: middle;\n",
       "    }\n",
       "\n",
       "    .dataframe tbody tr th {\n",
       "        vertical-align: top;\n",
       "    }\n",
       "\n",
       "    .dataframe thead th {\n",
       "        text-align: right;\n",
       "    }\n",
       "</style>\n",
       "<table border=\"1\" class=\"dataframe\">\n",
       "  <thead>\n",
       "    <tr style=\"text-align: right;\">\n",
       "      <th></th>\n",
       "      <th>date</th>\n",
       "      <th>created_at</th>\n",
       "    </tr>\n",
       "  </thead>\n",
       "  <tbody>\n",
       "    <tr>\n",
       "      <th>min</th>\n",
       "      <td>2022-05-19</td>\n",
       "      <td>2022-05-19 00:14:20</td>\n",
       "    </tr>\n",
       "    <tr>\n",
       "      <th>max</th>\n",
       "      <td>2024-02-15</td>\n",
       "      <td>2024-02-15 23:58:40</td>\n",
       "    </tr>\n",
       "  </tbody>\n",
       "</table>\n",
       "</div>"
      ],
      "text/plain": [
       "          date          created_at\n",
       "min 2022-05-19 2022-05-19 00:14:20\n",
       "max 2024-02-15 2024-02-15 23:58:40"
      ]
     },
     "metadata": {},
     "output_type": "display_data"
    }
   ],
   "source": [
    "dataset_tm_info(apparel_messages)"
   ]
  },
  {
   "cell_type": "markdown",
   "id": "53854fe2-bf8c-40b5-9af2-bd572c43e018",
   "metadata": {},
   "source": [
    "<span style=\"color: darkgreen\">Диапазон дат в колонках типа datetime64 - находится в нормальных пределах. Выбросов нет.</span>"
   ]
  },
  {
   "cell_type": "code",
   "execution_count": null,
   "id": "7351a8ec-956e-45d4-9634-7ecc522552b6",
   "metadata": {},
   "outputs": [],
   "source": []
  }
 ],
 "metadata": {
  "kernelspec": {
   "display_name": "Python 3 (ipykernel)",
   "language": "python",
   "name": "python3"
  },
  "language_info": {
   "codemirror_mode": {
    "name": "ipython",
    "version": 3
   },
   "file_extension": ".py",
   "mimetype": "text/x-python",
   "name": "python",
   "nbconvert_exporter": "python",
   "pygments_lexer": "ipython3",
   "version": "3.9.21"
  }
 },
 "nbformat": 4,
 "nbformat_minor": 5
}
