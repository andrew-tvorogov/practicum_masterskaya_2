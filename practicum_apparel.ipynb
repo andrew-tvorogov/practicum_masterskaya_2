{
 "cells": [
  {
   "cell_type": "markdown",
   "id": "d684b6a4-41fd-46d0-adbe-f7dd5ce2b87d",
   "metadata": {},
   "source": [
    "Ссылка на репозиторий проекта:\n",
    "https://github.com/andrew-tvorogov/practicum_masterskaya_2"
   ]
  },
  {
   "cell_type": "code",
   "execution_count": null,
   "id": "ce22da51-37f2-43b4-908c-13bc3dac4a33",
   "metadata": {},
   "outputs": [],
   "source": []
  },
  {
   "cell_type": "code",
   "execution_count": null,
   "id": "2dfe4a4c-4499-4a1f-af22-fec3375b8428",
   "metadata": {},
   "outputs": [],
   "source": []
  },
  {
   "cell_type": "code",
   "execution_count": null,
   "id": "f52a1af5-dc8d-4187-a091-c137ce748ddb",
   "metadata": {},
   "outputs": [],
   "source": []
  }
 ],
 "metadata": {
  "kernelspec": {
   "display_name": "Python 3 (ipykernel)",
   "language": "python",
   "name": "python3"
  },
  "language_info": {
   "codemirror_mode": {
    "name": "ipython",
    "version": 3
   },
   "file_extension": ".py",
   "mimetype": "text/x-python",
   "name": "python",
   "nbconvert_exporter": "python",
   "pygments_lexer": "ipython3",
   "version": "3.9.21"
  }
 },
 "nbformat": 4,
 "nbformat_minor": 5
}
